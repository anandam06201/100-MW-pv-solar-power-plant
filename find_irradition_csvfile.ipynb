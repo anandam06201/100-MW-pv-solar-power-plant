{
  "nbformat": 4,
  "nbformat_minor": 0,
  "metadata": {
    "colab": {
      "provenance": [],
      "include_colab_link": true
    },
    "kernelspec": {
      "name": "python3",
      "display_name": "Python 3"
    },
    "language_info": {
      "name": "python"
    }
  },
  "cells": [
    {
      "cell_type": "markdown",
      "metadata": {
        "id": "view-in-github",
        "colab_type": "text"
      },
      "source": [
        "<a href=\"https://colab.research.google.com/github/anandam06201/100-MW-pv-solar-power-plant/blob/main/find_irradition_csvfile.ipynb\" target=\"_parent\"><img src=\"https://colab.research.google.com/assets/colab-badge.svg\" alt=\"Open In Colab\"/></a>"
      ]
    },
    {
      "cell_type": "code",
      "source": [
        "import pandas as pd\n",
        "df=pd.read_csv('WMS_REPORT_23 04 2024_18 59 52.csv')"
      ],
      "metadata": {
        "colab": {
          "base_uri": "https://localhost:8080/"
        },
        "id": "g82ZCdoOIDEg",
        "outputId": "e8f994e8-190e-4bb0-f68b-bc2c9521d95c"
      },
      "execution_count": null,
      "outputs": [
        {
          "output_type": "stream",
          "name": "stderr",
          "text": [
            "<ipython-input-89-f949a7d62acb>:2: DtypeWarning: Columns (1,2,3,4,5,6,7,8,9,10,11,12,13,14,15,16,17,18,19,20,21,22,23,24,25,26,27) have mixed types. Specify dtype option on import or set low_memory=False.\n",
            "  df=pd.read_csv('WMS_REPORT_23 04 2024_18 59 52.csv')\n"
          ]
        }
      ]
    },
    {
      "cell_type": "code",
      "source": [
        "df1=df[['Veltoor\\n100MWac PVSPP','Unnamed: 16']].loc[2:1141,:]"
      ],
      "metadata": {
        "id": "IN0l8hJNIPLE"
      },
      "execution_count": null,
      "outputs": []
    },
    {
      "cell_type": "code",
      "source": [
        "df1.columns = ['Datetime', 'irradition_vales']\n",
        "import numpy as np\n",
        "\n",
        "df1['irradition_vales'] = df1['irradition_vales'].apply(lambda x: np.nan if x == 'No Data' else float(x))"
      ],
      "metadata": {
        "id": "6hFqQZVNIWl8"
      },
      "execution_count": null,
      "outputs": []
    },
    {
      "cell_type": "code",
      "source": [
        "df1['datetime'] = pd.to_datetime((df1['Datetime']))\n",
        "df1.index = df1['datetime']\n"
      ],
      "metadata": {
        "colab": {
          "base_uri": "https://localhost:8080/"
        },
        "id": "cG-PfRffIgiA",
        "outputId": "60daf547-aebb-40f6-8558-6cee3dce78dc"
      },
      "execution_count": null,
      "outputs": [
        {
          "output_type": "stream",
          "name": "stderr",
          "text": [
            "<ipython-input-92-83ca7888a9ed>:1: UserWarning: Parsing dates in %d/%m/%Y %H:%M format when dayfirst=False (the default) was specified. Pass `dayfirst=True` or specify a format to silence this warning.\n",
            "  df1['datetime'] = pd.to_datetime((df1['Datetime']))\n"
          ]
        }
      ]
    },
    {
      "cell_type": "code",
      "source": [
        "def irradition_value(time1,time2):\n",
        "  sum_irradiation = df1['irradition_vales'].between_time(time1,time2).sum()\n",
        "  return sum_irradiation/60000\n"
      ],
      "metadata": {
        "id": "wo4htcsTI9ER"
      },
      "execution_count": null,
      "outputs": []
    },
    {
      "cell_type": "markdown",
      "source": [
        "\n",
        "\n",
        "**Time format examle is ('6:10' , '12:15') for finding breakdown irradition**\n",
        "\n",
        "\n"
      ],
      "metadata": {
        "id": "vDHSlKysXOhF"
      }
    },
    {
      "cell_type": "code",
      "source": [
        "irradition_value('10:00','12:00')"
      ],
      "metadata": {
        "colab": {
          "base_uri": "https://localhost:8080/"
        },
        "id": "KH8_p0OiKj4S",
        "outputId": "29cdf7f2-13a9-492e-99e1-d1541f2417ee"
      },
      "execution_count": null,
      "outputs": [
        {
          "output_type": "execute_result",
          "data": {
            "text/plain": [
              "9.005775833333335"
            ]
          },
          "metadata": {},
          "execution_count": 95
        }
      ]
    },
    {
      "cell_type": "code",
      "source": [],
      "metadata": {
        "id": "BPhBiOzsYdKQ"
      },
      "execution_count": null,
      "outputs": []
    }
  ]
}